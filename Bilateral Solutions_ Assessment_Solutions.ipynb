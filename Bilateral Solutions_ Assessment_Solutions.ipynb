{
 "cells": [
  {
   "cell_type": "markdown",
   "id": "e42b5793",
   "metadata": {},
   "source": [
    "# 1. Create a Python function that evaluates the strength of a password based on certain criteria. The function should take a password string as input and return a strength score, where higher scores indicate stronger passwords. Consider factors such as length, inclusion of numbers, symbols, and variation of character types (uppercase, lowercase)."
   ]
  },
  {
   "cell_type": "code",
   "execution_count": 1,
   "id": "389465ef",
   "metadata": {},
   "outputs": [
    {
     "name": "stdout",
     "output_type": "stream",
     "text": [
      "Strength of 'abcde': 0\n",
      "Strength of 'Password123!': 3\n",
      "Strength of 'SuperSecurePassword123!': 3\n"
     ]
    }
   ],
   "source": [
    "import string\n",
    "\n",
    "def password_strength(password):\n",
    "    score = 0\n",
    "    \n",
    "    # Score based on length\n",
    "    length = len(password)\n",
    "    if length >= 8:\n",
    "        score += 1\n",
    "    elif length >= 12:\n",
    "        score += 2\n",
    "    elif length >= 16:\n",
    "        score += 3\n",
    "    \n",
    "    # Score based on character types\n",
    "    has_upper = any(char.isupper() for char in password)\n",
    "    has_lower = any(char.islower() for char in password)\n",
    "    has_digit = any(char.isdigit() for char in password)\n",
    "    has_symbol = any(char in string.punctuation for char in password)\n",
    "    \n",
    "    types_count = sum([has_upper, has_lower, has_digit, has_symbol])\n",
    "    \n",
    "    if types_count >= 3:\n",
    "        score += 2\n",
    "    elif types_count >= 2:\n",
    "        score += 1\n",
    "    \n",
    "    return score\n",
    "\n",
    "# Example usage:\n",
    "password1 = \"abcde\"\n",
    "password2 = \"Password123!\"\n",
    "password3 = \"SuperSecurePassword123!\"\n",
    "\n",
    "print(f\"Strength of '{password1}': {password_strength(password1)}\")\n",
    "print(f\"Strength of '{password2}': {password_strength(password2)}\")\n",
    "print(f\"Strength of '{password3}': {password_strength(password3)}\")\n"
   ]
  },
  {
   "cell_type": "markdown",
   "id": "ae192456",
   "metadata": {},
   "source": [
    "# 2. Write a Python function to perform prime factorization of a given integer. The function should return a list of tuples, where each tuple contains a prime factor and its corresponding exponent. For example, given the integer 60, the function should return [(2, 2), (3, 1), (5, 1)] since 60 = 2^2 * 3^1 * 5^1. \n"
   ]
  },
  {
   "cell_type": "code",
   "execution_count": 2,
   "id": "ec01e025",
   "metadata": {},
   "outputs": [
    {
     "name": "stdout",
     "output_type": "stream",
     "text": [
      "Prime factorization of 60: [(2, 2), (3, 1), (5, 1)]\n"
     ]
    }
   ],
   "source": [
    "def prime_factorization(n):\n",
    "    factors = []\n",
    "    divisor = 2\n",
    "    \n",
    "    # Check for each potential divisor starting from 2\n",
    "    while divisor <= n:\n",
    "        count = 0\n",
    "        while (n % divisor) == 0:\n",
    "            n //= divisor\n",
    "            count += 1\n",
    "        if count > 0:\n",
    "            factors.append((divisor, count))\n",
    "        divisor += 1\n",
    "    \n",
    "    # If n is still greater than 1, then it is a prime number itself\n",
    "    if n > 1:\n",
    "        factors.append((n, 1))\n",
    "    \n",
    "    return factors\n",
    "\n",
    "# Example usage:\n",
    "number = 60\n",
    "result = prime_factorization(number)\n",
    "print(f\"Prime factorization of {number}: {result}\")\n"
   ]
  },
  {
   "cell_type": "markdown",
   "id": "4b08d0ac",
   "metadata": {},
   "source": [
    "# 3. Query Writing Challenge: Suppose you're working for a social media platform. There's a table posts containing posts made by users. The platform wants to implement a feature where users can see posts made by their friends only. How would you design the SQL query to retrieve posts from friends?"
   ]
  },
  {
   "cell_type": "code",
   "execution_count": null,
   "id": "360b2c67",
   "metadata": {},
   "outputs": [],
   "source": [
    "SELECT p.post_id, p.user_id, p.post_content, p.post_time\n",
    "FROM posts p\n",
    "JOIN (\n",
    "    SELECT user1_id AS friend_id FROM friends WHERE user2_id = X\n",
    "    UNION ALL\n",
    "    SELECT user2_id AS friend_id FROM friends WHERE user1_id = X\n",
    ") AS f ON p.user_id = f.friend_id\n",
    "ORDER BY p.post_time DESC;\n"
   ]
  }
 ],
 "metadata": {
  "kernelspec": {
   "display_name": "Python 3 (ipykernel)",
   "language": "python",
   "name": "python3"
  },
  "language_info": {
   "codemirror_mode": {
    "name": "ipython",
    "version": 3
   },
   "file_extension": ".py",
   "mimetype": "text/x-python",
   "name": "python",
   "nbconvert_exporter": "python",
   "pygments_lexer": "ipython3",
   "version": "3.11.4"
  }
 },
 "nbformat": 4,
 "nbformat_minor": 5
}
